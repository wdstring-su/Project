{
 "cells": [
  {
   "cell_type": "code",
   "execution_count": 3,
   "metadata": {},
   "outputs": [
    {
     "name": "stdout",
     "output_type": "stream",
     "text": [
      "{'@encoding': 'iso-8859-1', '@version': '1.0', 'petfinder': {'@xmlns:xsi': 'http://www.w3.org/2001/XMLSchema-instance', 'breeds': {'breed': [{'$t': 'Appaloosa'}, {'$t': 'Arabian'}, {'$t': 'Belgian'}, {'$t': 'Clydesdale'}, {'$t': 'Connemara'}, {'$t': 'Curly Horse'}, {'$t': 'Donkey'}, {'$t': 'Draft'}, {'$t': 'Friesian'}, {'$t': 'Gaited'}, {'$t': 'Grade'}, {'$t': 'Haflinger'}, {'$t': 'Icelandic Horse'}, {'$t': 'Lipizzan'}, {'$t': 'Miniature Horse'}, {'$t': 'Missouri Foxtrotter'}, {'$t': 'Morgan'}, {'$t': 'Mule'}, {'$t': 'Mustang'}, {'$t': 'Paint / Pinto'}, {'$t': 'Palomino'}, {'$t': 'Paso Fino'}, {'$t': 'Percheron'}, {'$t': 'Peruvian Paso'}, {'$t': 'Pony'}, {'$t': 'Pony of the Americas'}, {'$t': 'Quarterhorse'}, {'$t': 'Rocky Mountain Horse'}, {'$t': 'Saddlebred'}, {'$t': 'Shetland Pony'}, {'$t': 'Standardbred'}, {'$t': 'Tennessee Walker'}, {'$t': 'Thoroughbred'}, {'$t': 'Warmblood'}], '@animal': 'horse'}, 'header': {'timestamp': {'$t': '2018-05-08T00:01:37Z'}, 'status': {'message': {}, 'code': {'$t': '100'}}, 'version': {'$t': '0.1'}}, '@xsi:noNamespaceSchemaLocation': 'http://api.petfinder.com/schemas/0.9/petfinder.xsd'}}\n"
     ]
    }
   ],
   "source": [
    "import requests\n",
    "import json\n",
    "\n",
    "\n",
    "\n",
    "api_key = 'c6544afb1b45c7b5ddab354693907440'\n",
    "api_secret = '94a093f838c3d858eee780924f7eb743'\n",
    "url = 'http://api.petfinder.com/'\n",
    "\n",
    "\n",
    "method_breed = 'breed.list'\n",
    "method_shelter = 'shelter.find'\n",
    "\n",
    "shelter_args = {'key' : api_key, 'location' : '13244', 'format' : 'json'}\n",
    "breed_args = {'key' : api_key, 'animal' : 'horse', 'format' : 'json'}\n",
    "\n",
    " \n",
    "\n",
    "response = requests.get(url + method_breed , params = breed_args)\n",
    "\n",
    "if response.ok:\n",
    "    data = response.json()\n",
    "    print(data)\n",
    "\n"
   ]
  },
  {
   "cell_type": "code",
   "execution_count": 4,
   "metadata": {},
   "outputs": [
    {
     "name": "stdout",
     "output_type": "stream",
     "text": [
      "[{'$t': 'Appaloosa'}, {'$t': 'Arabian'}, {'$t': 'Belgian'}, {'$t': 'Clydesdale'}, {'$t': 'Connemara'}, {'$t': 'Curly Horse'}, {'$t': 'Donkey'}, {'$t': 'Draft'}, {'$t': 'Friesian'}, {'$t': 'Gaited'}, {'$t': 'Grade'}, {'$t': 'Haflinger'}, {'$t': 'Icelandic Horse'}, {'$t': 'Lipizzan'}, {'$t': 'Miniature Horse'}, {'$t': 'Missouri Foxtrotter'}, {'$t': 'Morgan'}, {'$t': 'Mule'}, {'$t': 'Mustang'}, {'$t': 'Paint / Pinto'}, {'$t': 'Palomino'}, {'$t': 'Paso Fino'}, {'$t': 'Percheron'}, {'$t': 'Peruvian Paso'}, {'$t': 'Pony'}, {'$t': 'Pony of the Americas'}, {'$t': 'Quarterhorse'}, {'$t': 'Rocky Mountain Horse'}, {'$t': 'Saddlebred'}, {'$t': 'Shetland Pony'}, {'$t': 'Standardbred'}, {'$t': 'Tennessee Walker'}, {'$t': 'Thoroughbred'}, {'$t': 'Warmblood'}]\n"
     ]
    },
    {
     "data": {
      "text/plain": [
       "['Appaloosa',\n",
       " 'Arabian',\n",
       " 'Belgian',\n",
       " 'Clydesdale',\n",
       " 'Connemara',\n",
       " 'Curly Horse',\n",
       " 'Donkey',\n",
       " 'Draft',\n",
       " 'Friesian',\n",
       " 'Gaited',\n",
       " 'Grade',\n",
       " 'Haflinger',\n",
       " 'Icelandic Horse',\n",
       " 'Lipizzan',\n",
       " 'Miniature Horse',\n",
       " 'Missouri Foxtrotter',\n",
       " 'Morgan',\n",
       " 'Mule',\n",
       " 'Mustang',\n",
       " 'Paint / Pinto',\n",
       " 'Palomino',\n",
       " 'Paso Fino',\n",
       " 'Percheron',\n",
       " 'Peruvian Paso',\n",
       " 'Pony',\n",
       " 'Pony of the Americas',\n",
       " 'Quarterhorse',\n",
       " 'Rocky Mountain Horse',\n",
       " 'Saddlebred',\n",
       " 'Shetland Pony',\n",
       " 'Standardbred',\n",
       " 'Tennessee Walker',\n",
       " 'Thoroughbred',\n",
       " 'Warmblood']"
      ]
     },
     "execution_count": 4,
     "metadata": {},
     "output_type": "execute_result"
    }
   ],
   "source": [
    "breed_list = []\n",
    "print(data['petfinder']['breeds']['breed'])\n",
    "for breed in data['petfinder']['breeds']['breed']:\n",
    "    breed_list.append(breed['$t'])\n",
    "breed_list"
   ]
  },
  {
   "cell_type": "code",
   "execution_count": null,
   "metadata": {},
   "outputs": [],
   "source": []
  }
 ],
 "metadata": {
  "kernelspec": {
   "display_name": "Python 3",
   "language": "python",
   "name": "python3"
  },
  "language_info": {
   "codemirror_mode": {
    "name": "ipython",
    "version": 3
   },
   "file_extension": ".py",
   "mimetype": "text/x-python",
   "name": "python",
   "nbconvert_exporter": "python",
   "pygments_lexer": "ipython3",
   "version": "3.6.2"
  }
 },
 "nbformat": 4,
 "nbformat_minor": 2
}
